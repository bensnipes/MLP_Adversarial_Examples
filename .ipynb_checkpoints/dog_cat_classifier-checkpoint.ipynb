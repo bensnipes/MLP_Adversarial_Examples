{
 "cells": [
  {
   "cell_type": "code",
   "execution_count": 1,
   "id": "d300901a",
   "metadata": {},
   "outputs": [],
   "source": [
    "import os\n",
    "import numpy as np\n",
    "import torch\n",
    "import glob\n",
    "import torch.nn as nn\n",
    "from torchvision.transforms import transforms\n",
    "from torch.utils.data import DataLoader\n",
    "from torch.optim import Adam\n",
    "from torch.autograd import Variable\n",
    "import pathlib\n",
    "import torchvision\n",
    "from torchvision.models import squeezenet1_1\n",
    "import torch.nn.functional as F\n",
    "from io import open\n",
    "from PIL import Image\n",
    "import cv2\n",
    "import matplotlib.pyplot as plt"
   ]
  },
  {
   "cell_type": "code",
   "execution_count": 55,
   "id": "acae9fe0",
   "metadata": {},
   "outputs": [],
   "source": [
    "#checking for device\n",
    "device = torch.device(\"cuda\" if torch.cuda.is_available() else \"cpu\")"
   ]
  },
  {
   "cell_type": "code",
   "execution_count": 56,
   "id": "732aa665",
   "metadata": {},
   "outputs": [
    {
     "name": "stdout",
     "output_type": "stream",
     "text": [
      "cpu\n"
     ]
    }
   ],
   "source": [
    "print(device)"
   ]
  },
  {
   "cell_type": "code",
   "execution_count": 57,
   "id": "9721d80d",
   "metadata": {},
   "outputs": [
    {
     "data": {
      "text/plain": [
       "['cats', 'dogs']"
      ]
     },
     "execution_count": 57,
     "metadata": {},
     "output_type": "execute_result"
    }
   ],
   "source": [
    " os.listdir(\"./train/\") "
   ]
  },
  {
   "cell_type": "code",
   "execution_count": 58,
   "id": "a29094ca",
   "metadata": {},
   "outputs": [],
   "source": [
    "train_path = \"./train/\""
   ]
  },
  {
   "cell_type": "code",
   "execution_count": 59,
   "id": "a4f2d3df",
   "metadata": {},
   "outputs": [],
   "source": [
    "train_transform = transforms.Compose([transforms.Resize((224, 224)), transforms.ToTensor()])"
   ]
  },
  {
   "cell_type": "code",
   "execution_count": 60,
   "id": "d329950e",
   "metadata": {},
   "outputs": [],
   "source": [
    "train_dataset = torchvision.datasets.ImageFolder(root=train_path, transform=train_transform)"
   ]
  },
  {
   "cell_type": "code",
   "execution_count": 61,
   "id": "29646b0d",
   "metadata": {},
   "outputs": [],
   "source": [
    "train_loader = torch.utils.data.DataLoader(dataset=train_dataset, batch_size =32, shuffle=False)"
   ]
  },
  {
   "cell_type": "code",
   "execution_count": 62,
   "id": "6b7ceadb",
   "metadata": {},
   "outputs": [],
   "source": [
    "#calculate the mean and std to normalize the images\n",
    "\n",
    "def mean_std(loader):\n",
    "    mean = 0.\n",
    "    std = 0.\n",
    "    total_images = 0\n",
    "    for images, _ in loader:\n",
    "        image_count = images.size(0)\n",
    "        images = images.view(image_count, images.size(1), -1)\n",
    "        mean += images.mean(2).sum(0)\n",
    "        std += images.std(2).sum(0)\n",
    "        total_images += image_count\n",
    "        \n",
    "    mean /= total_images\n",
    "    std  /= total_images\n",
    "    \n",
    "    return mean, std"
   ]
  },
  {
   "cell_type": "code",
   "execution_count": 11,
   "id": "ad7c3656",
   "metadata": {},
   "outputs": [
    {
     "data": {
      "text/plain": [
       "(tensor([0.4881, 0.4542, 0.4162]), tensor([0.2260, 0.2204, 0.2211]))"
      ]
     },
     "execution_count": 11,
     "metadata": {},
     "output_type": "execute_result"
    }
   ],
   "source": [
    "mean_std(train_loader)"
   ]
  },
  {
   "cell_type": "code",
   "execution_count": 63,
   "id": "94a382eb",
   "metadata": {},
   "outputs": [],
   "source": [
    "#Transforms\n",
    "transformer = transforms.Compose([\n",
    "    transforms.Resize((150,150)),\n",
    "    transforms.RandomHorizontalFlip(),\n",
    "    transforms.ToTensor(),\n",
    "    transforms.Normalize([0.4881, 0.4542, 0.4162], [0.2260, 0.2204, 0.2211])\n",
    "])"
   ]
  },
  {
   "cell_type": "code",
   "execution_count": 64,
   "id": "a5fa5f87",
   "metadata": {},
   "outputs": [],
   "source": [
    "#DataLoaders for training\n",
    "train_path = \"./train/\"  \n",
    "test_path  = \"./test/\"  \n",
    "\n",
    "train_loader = DataLoader(\n",
    "                torchvision.datasets.ImageFolder(train_path, transform=transformer),\n",
    "                batch_size=16, shuffle=True)\n",
    "\n",
    "test_loader = DataLoader(\n",
    "                torchvision.datasets.ImageFolder(test_path, transform=transformer),\n",
    "                batch_size=16, shuffle=True)"
   ]
  },
  {
   "cell_type": "code",
   "execution_count": 65,
   "id": "32c0bd38",
   "metadata": {},
   "outputs": [],
   "source": [
    "#lables\n",
    "root = pathlib.Path(train_path)\n",
    "classes = sorted([j.name.split('/')[-1] for j in root.iterdir()])"
   ]
  },
  {
   "cell_type": "code",
   "execution_count": 66,
   "id": "51fdd483",
   "metadata": {},
   "outputs": [
    {
     "name": "stdout",
     "output_type": "stream",
     "text": [
      "['cats', 'dogs']\n"
     ]
    }
   ],
   "source": [
    "print(classes)"
   ]
  },
  {
   "cell_type": "code",
   "execution_count": 67,
   "id": "9530df7a",
   "metadata": {},
   "outputs": [],
   "source": [
    "#CNN Network\n",
    "class ConvNet(nn.Module):\n",
    "    def __init__(self, num_classes=3):\n",
    "        \n",
    "        \n",
    "        super(ConvNet, self).__init__()\n",
    "    \n",
    "        #output size after convolution filter\n",
    "        #((w-f+2P)/s) + 1\n",
    "    \n",
    "        #Input shape = (16 ,3,150,150)\n",
    "    \n",
    "        self.conv1=nn.Conv2d(in_channels=3, out_channels=12, kernel_size=3, stride=1, padding=1)\n",
    "        #shape = (16, 12, 150, 150)\n",
    "    \n",
    "        self.bn1 = nn.BatchNorm2d(num_features=12) #num_features == out_channels\n",
    "        #shape = (16, 12, 150, 150)\n",
    "    \n",
    "        self.relu1 = nn.ReLU()\n",
    "        #shape = (16, 12, 150, 150)\n",
    "    \n",
    "        self.pool = nn.MaxPool2d(kernel_size=2)\n",
    "        # Reduce the image size by factor 2\n",
    "        \n",
    "    \n",
    "        ############################################\n",
    "        #shape = (16, 12, 75, 75)\n",
    "        self.conv2=nn.Conv2d(in_channels=12, out_channels=20, kernel_size=3, stride=1, padding=1)\n",
    "        #shape = (16, 20, 75, 75)\n",
    "    \n",
    "        self.relu2 = nn.ReLU()\n",
    "        #shape = (16, 20, 75, 75)\n",
    "    \n",
    "        #################################################\n",
    "    \n",
    "        self.conv3=nn.Conv2d(in_channels=20, out_channels=32, kernel_size=3, stride=1, padding=1)\n",
    "        #shape = (16, 32, 75, 75)\n",
    "    \n",
    "        self.bn3 = nn.BatchNorm2d(num_features=32) #num_features == out_channels\n",
    "        #shape = (16, 32, 75, 75)\n",
    "    \n",
    "        self.relu3 = nn.ReLU()\n",
    "        #shape = (16, 32, 75, 75)\n",
    "    \n",
    "    \n",
    "        self.fc = nn.Linear(in_features=32*75*75, out_features=3)\n",
    "    \n",
    "    \n",
    "        #Forward Propagation\n",
    "    def forward(self, input):\n",
    "        \n",
    "        output = self.conv1(input)\n",
    "        output = self.bn1(output)\n",
    "        output = self.relu1(output)\n",
    "        \n",
    "        output = self.pool(output)\n",
    "        \n",
    "        output = self.conv2(output)\n",
    "        output = self.relu2(output)\n",
    "        \n",
    "        output = self.conv3(output)\n",
    "        output = self.bn3(output)\n",
    "        output = self.relu3(output)\n",
    "        \n",
    "        \n",
    "        #Above output will be in matrix form,with shape (16,32,75,75)\n",
    "        \n",
    "        \n",
    "        output = output.view(-1, 32*75*75)\n",
    "        \n",
    "        output = self.fc(output)\n",
    "        \n",
    "        return output"
   ]
  },
  {
   "cell_type": "code",
   "execution_count": 68,
   "id": "9a443873",
   "metadata": {},
   "outputs": [],
   "source": [
    "model = ConvNet(num_classes=2).to(device)"
   ]
  },
  {
   "cell_type": "code",
   "execution_count": 69,
   "id": "b68d1c51",
   "metadata": {},
   "outputs": [],
   "source": [
    "#Optimizer and loss function\n",
    "optimizer = Adam(model.parameters(), lr=0.001, weight_decay=0.0001)\n",
    "loss_function = nn.CrossEntropyLoss()"
   ]
  },
  {
   "cell_type": "code",
   "execution_count": 70,
   "id": "7311b886",
   "metadata": {},
   "outputs": [],
   "source": [
    "num_epochs = 50"
   ]
  },
  {
   "cell_type": "code",
   "execution_count": 71,
   "id": "673586c4",
   "metadata": {},
   "outputs": [],
   "source": [
    "#calculating the size of training and testing images\n",
    "train_count = len(glob.glob(train_path+\"/**/*.jpg\"))\n",
    "test_count = len(glob.glob(test_path+\"/**/*.jpg\"))"
   ]
  },
  {
   "cell_type": "code",
   "execution_count": 72,
   "id": "0a7a6756",
   "metadata": {},
   "outputs": [
    {
     "name": "stdout",
     "output_type": "stream",
     "text": [
      "4000 1000\n"
     ]
    }
   ],
   "source": [
    "print(train_count, test_count)"
   ]
  },
  {
   "cell_type": "code",
   "execution_count": 73,
   "id": "3da6b1b0",
   "metadata": {},
   "outputs": [
    {
     "name": "stdout",
     "output_type": "stream",
     "text": [
      "Epoch: 0 loss: tensor(6.8116) Train Accuracy: 0.583 Test Accuracy: 0.574\n",
      "Epoch: 1 loss: tensor(1.5599) Train Accuracy: 0.661 Test Accuracy: 0.674\n",
      "Epoch: 2 loss: tensor(0.5733) Train Accuracy: 0.737 Test Accuracy: 0.656\n",
      "Epoch: 3 loss: tensor(0.4471) Train Accuracy: 0.79575 Test Accuracy: 0.699\n",
      "Epoch: 4 loss: tensor(0.3666) Train Accuracy: 0.84475 Test Accuracy: 0.672\n",
      "Epoch: 5 loss: tensor(0.2898) Train Accuracy: 0.87925 Test Accuracy: 0.664\n",
      "Epoch: 6 loss: tensor(0.2575) Train Accuracy: 0.8955 Test Accuracy: 0.718\n",
      "Epoch: 7 loss: tensor(0.2012) Train Accuracy: 0.925 Test Accuracy: 0.674\n",
      "Epoch: 8 loss: tensor(0.1635) Train Accuracy: 0.9365 Test Accuracy: 0.678\n",
      "Epoch: 9 loss: tensor(0.1681) Train Accuracy: 0.93625 Test Accuracy: 0.683\n",
      "Epoch: 10 loss: tensor(0.1661) Train Accuracy: 0.93775 Test Accuracy: 0.677\n",
      "Epoch: 11 loss: tensor(0.1594) Train Accuracy: 0.93625 Test Accuracy: 0.692\n",
      "Epoch: 12 loss: tensor(0.1421) Train Accuracy: 0.949 Test Accuracy: 0.687\n",
      "Epoch: 13 loss: tensor(0.1347) Train Accuracy: 0.948 Test Accuracy: 0.674\n",
      "Epoch: 14 loss: tensor(0.1040) Train Accuracy: 0.964 Test Accuracy: 0.7\n"
     ]
    }
   ],
   "source": [
    "#Model training and saving best model\n",
    "\n",
    "best_accuracy = 0.0\n",
    "\n",
    "for epoch in range(num_epochs):\n",
    "    \n",
    "    #Training of model on train dataset\n",
    "    model.train()\n",
    "    \n",
    "    train_accuracy = 0.0\n",
    "    train_loss= 0.0\n",
    "    \n",
    "    for i, (images, labels) in enumerate(train_loader):\n",
    "        if torch.cuda.is_available():\n",
    "            images = Variable(images.cuda())\n",
    "            labels = Variable(labels.cuda())\n",
    "            \n",
    "        optimizer.zero_grad()\n",
    "        \n",
    "        outputs = model(images)\n",
    "        loss = loss_function(outputs, labels)\n",
    "        loss.backward()\n",
    "        optimizer.step()\n",
    "        \n",
    "        train_loss += loss.cpu().data*images.size(0)\n",
    "        _, prediction = torch.max(outputs.data, 1)\n",
    "        \n",
    "        train_accuracy += int(torch.sum(prediction == labels.data))\n",
    "        \n",
    "    train_accuracy = train_accuracy/train_count\n",
    "    train_loss = train_loss/train_count\n",
    "    \n",
    "    \n",
    "    #Evalutation on testing dataset\n",
    "    model.eval()\n",
    "    \n",
    "    test_accuracy = 0.0\n",
    "    \n",
    "    for i, (images, labels) in enumerate(test_loader):\n",
    "        if torch.cuda.is_available():\n",
    "            images = Variable(images.cuda())\n",
    "            labels = Variable(labels.cuda())\n",
    "            \n",
    "        outputs = model(images)\n",
    "        _, prediction = torch.max(outputs.data, 1)\n",
    "        test_accuracy += int(torch.sum(prediction == labels.data))\n",
    "        \n",
    "    test_accuracy = test_accuracy/test_count\n",
    "    \n",
    "    \n",
    "    print(\"Epoch: \"  +  str(epoch) +   \" loss: \" + str(train_loss)          + \" Train Accuracy: \"+ str(train_accuracy)  +  \" Test Accuracy: \"+ str(test_accuracy))\n",
    "    \n",
    "    \n",
    "    #save the best model\n",
    "    if test_accuracy>best_accuracy:\n",
    "        torch.save(model.state_dict(), \"best_checkpoint.model\")  #customize location\n",
    "        best_accuracy = test_accuracy\n",
    "    \n",
    "    \n"
   ]
  },
  {
   "cell_type": "code",
   "execution_count": 23,
   "id": "e83e4ef5",
   "metadata": {},
   "outputs": [],
   "source": [
    "#####################  PREDICTION PREDICTION PREDICTION ########################################################"
   ]
  },
  {
   "cell_type": "code",
   "execution_count": 83,
   "id": "833878be",
   "metadata": {},
   "outputs": [],
   "source": [
    "pred_path  = \"./prediction/\""
   ]
  },
  {
   "cell_type": "code",
   "execution_count": 76,
   "id": "83d2e636",
   "metadata": {},
   "outputs": [
    {
     "data": {
      "text/plain": [
       "ConvNet(\n",
       "  (conv1): Conv2d(3, 12, kernel_size=(3, 3), stride=(1, 1), padding=(1, 1))\n",
       "  (bn1): BatchNorm2d(12, eps=1e-05, momentum=0.1, affine=True, track_running_stats=True)\n",
       "  (relu1): ReLU()\n",
       "  (pool): MaxPool2d(kernel_size=2, stride=2, padding=0, dilation=1, ceil_mode=False)\n",
       "  (conv2): Conv2d(12, 20, kernel_size=(3, 3), stride=(1, 1), padding=(1, 1))\n",
       "  (relu2): ReLU()\n",
       "  (conv3): Conv2d(20, 32, kernel_size=(3, 3), stride=(1, 1), padding=(1, 1))\n",
       "  (bn3): BatchNorm2d(32, eps=1e-05, momentum=0.1, affine=True, track_running_stats=True)\n",
       "  (relu3): ReLU()\n",
       "  (fc): Linear(in_features=180000, out_features=3, bias=True)\n",
       ")"
      ]
     },
     "execution_count": 76,
     "metadata": {},
     "output_type": "execute_result"
    }
   ],
   "source": [
    "trained_model = torch.load(\"./best_checkpoint.model\")\n",
    "model = ConvNet(num_classes=2)\n",
    "model.load_state_dict(trained_model)\n",
    "model.eval()"
   ]
  },
  {
   "cell_type": "code",
   "execution_count": 77,
   "id": "4eb0c1c8",
   "metadata": {},
   "outputs": [],
   "source": [
    "#prdiction function\n",
    "def prediction(img_path, transformer):\n",
    "    \n",
    "    image = Image.open(img_path)\n",
    "    \n",
    "    image_tensor = transformer(image).float()\n",
    "    \n",
    "    image_tensor = image_tensor.unsqueeze_(0)\n",
    "    \n",
    "    if torch.cuda.is_available():\n",
    "        image_tensor.cuda()\n",
    "        \n",
    "    input = Variable(image_tensor)\n",
    "    \n",
    "    output = model(input)\n",
    "    \n",
    "    index = output.data.numpy().argmax()\n",
    "    \n",
    "    pred = classes[index]\n",
    "    \n",
    "    return pred"
   ]
  },
  {
   "cell_type": "code",
   "execution_count": 84,
   "id": "e8092626",
   "metadata": {},
   "outputs": [],
   "source": [
    "images_path = glob.glob(pred_path+\"/*.jpg\")"
   ]
  },
  {
   "cell_type": "code",
   "execution_count": 86,
   "id": "f2fe9a54",
   "metadata": {},
   "outputs": [],
   "source": [
    "pred_dict = {}\n",
    "\n",
    "for i in images_path:\n",
    "    pred_dict[i[i.rfind(\"/\")+1:]] = prediction(i, transformer)"
   ]
  },
  {
   "cell_type": "code",
   "execution_count": 87,
   "id": "99e8403e",
   "metadata": {},
   "outputs": [
    {
     "data": {
      "text/plain": [
       "{'prediction\\\\cat1.jpg': 'cats',\n",
       " 'prediction\\\\cat2.jpg': 'cats',\n",
       " 'prediction\\\\cat3.jpg': 'cats',\n",
       " 'prediction\\\\cat4.jpg': 'cats',\n",
       " 'prediction\\\\cat5.jpg': 'dogs',\n",
       " 'prediction\\\\dog1.jpg': 'dogs',\n",
       " 'prediction\\\\dog2.jpg': 'cats',\n",
       " 'prediction\\\\dog3.jpg': 'dogs',\n",
       " 'prediction\\\\dog4.jpg': 'dogs',\n",
       " 'prediction\\\\dog5.jpg': 'dogs'}"
      ]
     },
     "execution_count": 87,
     "metadata": {},
     "output_type": "execute_result"
    }
   ],
   "source": [
    "pred_dict"
   ]
  },
  {
   "cell_type": "code",
   "execution_count": 33,
   "id": "a379a1fd",
   "metadata": {},
   "outputs": [],
   "source": [
    "############## Adversarial learning  Adversarial Learning  Adversarial learning  Adversarial Learning #####################"
   ]
  },
  {
   "cell_type": "code",
   "execution_count": 88,
   "id": "b9ceede4",
   "metadata": {},
   "outputs": [],
   "source": [
    "epsilons = [0, .05, .1, .15, .2, .25, .3]\n",
    "pretrained_model = \"./best_checkpoint.model\"\n",
    "use_cuda=True"
   ]
  },
  {
   "cell_type": "code",
   "execution_count": 90,
   "id": "fa422cf5",
   "metadata": {},
   "outputs": [
    {
     "data": {
      "text/plain": [
       "ConvNet(\n",
       "  (conv1): Conv2d(3, 12, kernel_size=(3, 3), stride=(1, 1), padding=(1, 1))\n",
       "  (bn1): BatchNorm2d(12, eps=1e-05, momentum=0.1, affine=True, track_running_stats=True)\n",
       "  (relu1): ReLU()\n",
       "  (pool): MaxPool2d(kernel_size=2, stride=2, padding=0, dilation=1, ceil_mode=False)\n",
       "  (conv2): Conv2d(12, 20, kernel_size=(3, 3), stride=(1, 1), padding=(1, 1))\n",
       "  (relu2): ReLU()\n",
       "  (conv3): Conv2d(20, 32, kernel_size=(3, 3), stride=(1, 1), padding=(1, 1))\n",
       "  (bn3): BatchNorm2d(32, eps=1e-05, momentum=0.1, affine=True, track_running_stats=True)\n",
       "  (relu3): ReLU()\n",
       "  (fc): Linear(in_features=180000, out_features=3, bias=True)\n",
       ")"
      ]
     },
     "execution_count": 90,
     "metadata": {},
     "output_type": "execute_result"
    }
   ],
   "source": [
    "#CNN Network\n",
    "class ConvNet(nn.Module):\n",
    "    def __init__(self, num_classes=3):\n",
    "        \n",
    "        \n",
    "        super(ConvNet, self).__init__()\n",
    "    \n",
    "        #output size after convolution filter\n",
    "        #((w-f+2P)/s) + 1\n",
    "    \n",
    "        #Input shape = (16 ,3,150,150)\n",
    "    \n",
    "        self.conv1=nn.Conv2d(in_channels=3, out_channels=12, kernel_size=3, stride=1, padding=1)\n",
    "        #shape = (16, 12, 150, 150)\n",
    "    \n",
    "        self.bn1 = nn.BatchNorm2d(num_features=12) #num_features == out_channels\n",
    "        #shape = (16, 12, 150, 150)\n",
    "    \n",
    "        self.relu1 = nn.ReLU()\n",
    "        #shape = (16, 12, 150, 150)\n",
    "    \n",
    "        self.pool = nn.MaxPool2d(kernel_size=2)\n",
    "        # Reduce the image size by factor 2\n",
    "        \n",
    "    \n",
    "        ############################################\n",
    "        #shape = (16, 12, 75, 75)\n",
    "        self.conv2=nn.Conv2d(in_channels=12, out_channels=20, kernel_size=3, stride=1, padding=1)\n",
    "        #shape = (16, 20, 75, 75)\n",
    "    \n",
    "        self.relu2 = nn.ReLU()\n",
    "        #shape = (16, 20, 75, 75)\n",
    "    \n",
    "        #################################################\n",
    "    \n",
    "        self.conv3=nn.Conv2d(in_channels=20, out_channels=32, kernel_size=3, stride=1, padding=1)\n",
    "        #shape = (16, 32, 75, 75)\n",
    "    \n",
    "        self.bn3 = nn.BatchNorm2d(num_features=32) #num_features == out_channels\n",
    "        #shape = (16, 32, 75, 75)\n",
    "    \n",
    "        self.relu3 = nn.ReLU()\n",
    "        #shape = (16, 32, 75, 75)\n",
    "    \n",
    "    \n",
    "        self.fc = nn.Linear(in_features=32*75*75, out_features=3)\n",
    "    \n",
    "    \n",
    "        #Forward Propagation\n",
    "    def forward(self, input):\n",
    "        \n",
    "        output = self.conv1(input)\n",
    "        output = self.bn1(output)\n",
    "        output = self.relu1(output)\n",
    "        \n",
    "        output = self.pool(output)\n",
    "        \n",
    "        output = self.conv2(output)\n",
    "        output = self.relu2(output)\n",
    "        \n",
    "        output = self.conv3(output)\n",
    "        output = self.bn3(output)\n",
    "        output = self.relu3(output)\n",
    "        \n",
    "        \n",
    "        #Above output will be in matrix form,with shape (16,32,75,75)\n",
    "        \n",
    "        \n",
    "        output = output.view(-1, 32*75*75)\n",
    "        \n",
    "        output = self.fc(output)\n",
    "        \n",
    "        return output\n",
    "    \n",
    "    \n",
    "\n",
    "\n",
    "\n",
    "pred_loader = DataLoader(torchvision.datasets.ImageFolder(root=\"./adversarial\", transform=transformer),batch_size=1, shuffle=True)\n",
    "\n",
    "device = torch.device(\"cuda\" if (use_cuda and torch.cuda.is_available()) else \"cpu\")\n",
    "\n",
    "\n",
    "#Initialize the network\n",
    "model = ConvNet().to(device)\n",
    "\n",
    "#Load the pretrained model\n",
    "model.load_state_dict(torch.load(pretrained_model, map_location='cpu'))\n",
    "\n",
    "\n",
    "#Set the model in evaluation mode. In this case this is for the Dropout layers\n",
    "model.eval()    "
   ]
  },
  {
   "cell_type": "code",
   "execution_count": 91,
   "id": "f85c0e49",
   "metadata": {},
   "outputs": [],
   "source": [
    "def fgsm_attack(image, epsilon, data_grad):\n",
    "    # Collect the element-wise sign of the data gradient\n",
    "    sign_data_grad = data_grad.sign()\n",
    "    # Create the perturbed image by adjusting each pixel of the input image\n",
    "    perturbed_image = image + epsilon*sign_data_grad\n",
    "    # Adding clipping to maintain [0,1] range\n",
    "    perturbed_image = torch.clamp(perturbed_image, 0, 1)\n",
    "    # Return the perturbed image\n",
    "    return perturbed_image"
   ]
  },
  {
   "cell_type": "code",
   "execution_count": 92,
   "id": "a9738f88",
   "metadata": {},
   "outputs": [],
   "source": [
    "def test(model, device, test_loader, epsilon ):\n",
    "\n",
    "    # Accuracy counter\n",
    "    correct = 0\n",
    "    adv_examples = []\n",
    "\n",
    "    # Loop over all examples in test set\n",
    "    for data, target in test_loader:\n",
    "\n",
    "        # Send the data and label to the device\n",
    "        data, target = data.to(device), target.to(device)\n",
    "\n",
    "        # Set requires_grad attribute of tensor. Important for Attack\n",
    "        data.requires_grad = True\n",
    "\n",
    "        # Forward pass the data through the model\n",
    "        output = model(data)\n",
    "        init_pred = output.max(1, keepdim=True)[1] # get the index of the max log-probability\n",
    "\n",
    "        # If the initial prediction is wrong, dont bother attacking, just move on\n",
    "        if init_pred.item() != target.item():\n",
    "            continue\n",
    "\n",
    "        # Calculate the loss\n",
    "        loss = F.nll_loss(output, target)\n",
    "\n",
    "        # Zero all existing gradients\n",
    "        model.zero_grad()\n",
    "\n",
    "        # Calculate gradients of model in backward pass\n",
    "        loss.backward()\n",
    "\n",
    "        # Collect datagrad\n",
    "        data_grad = data.grad.data\n",
    "\n",
    "        # Call FGSM Attack\n",
    "        perturbed_data = fgsm_attack(data, epsilon, data_grad)\n",
    "\n",
    "        # Re-classify the perturbed image\n",
    "        output = model(perturbed_data)\n",
    "\n",
    "        # Check for success\n",
    "        final_pred = output.max(1, keepdim=True)[1] # get the index of the max log-probability\n",
    "        if final_pred.item() == target.item():\n",
    "            correct += 1\n",
    "            # Special case for saving 0 epsilon examples\n",
    "            if (epsilon == 0) and (len(adv_examples) < 5):\n",
    "                adv_ex = perturbed_data.squeeze().detach().cpu().numpy()\n",
    "                adv_examples.append( (init_pred.item(), final_pred.item(), adv_ex) )\n",
    "        else:\n",
    "            # Save some adv examples for visualization later\n",
    "            if len(adv_examples) < 5:\n",
    "                adv_ex = perturbed_data.squeeze().detach().cpu().numpy()\n",
    "                adv_examples.append( (init_pred.item(), final_pred.item(), adv_ex) )\n",
    "\n",
    "    # Calculate final accuracy for this epsilon\n",
    "    final_acc = correct/float(len(test_loader))\n",
    "    print(\"Epsilon: {}\\tTest Accuracy = {} / {} = {}\".format(epsilon, correct, len(test_loader), final_acc))\n",
    "\n",
    "    # Return the accuracy and an adversarial example\n",
    "    return final_acc, adv_examples"
   ]
  },
  {
   "cell_type": "code",
   "execution_count": 93,
   "id": "8c9962ab",
   "metadata": {},
   "outputs": [
    {
     "name": "stdout",
     "output_type": "stream",
     "text": [
      "Epsilon: 0\tTest Accuracy = 5 / 10 = 0.5\n",
      "Epsilon: 0.05\tTest Accuracy = 3 / 10 = 0.3\n",
      "Epsilon: 0.1\tTest Accuracy = 1 / 10 = 0.1\n",
      "Epsilon: 0.15\tTest Accuracy = 1 / 10 = 0.1\n",
      "Epsilon: 0.2\tTest Accuracy = 1 / 10 = 0.1\n",
      "Epsilon: 0.25\tTest Accuracy = 1 / 10 = 0.1\n",
      "Epsilon: 0.3\tTest Accuracy = 0 / 10 = 0.0\n"
     ]
    }
   ],
   "source": [
    "accuracies = []\n",
    "examples = []\n",
    "\n",
    "# Run test for each epsilon\n",
    "for eps in epsilons:\n",
    "    acc, ex = test(model=model, device=device, test_loader=pred_loader, epsilon=eps)\n",
    "    accuracies.append(acc)\n",
    "    examples.append(ex)"
   ]
  },
  {
   "cell_type": "code",
   "execution_count": null,
   "id": "2a680da9",
   "metadata": {},
   "outputs": [],
   "source": [
    "# Plot several examples of adversarial samples at each epsilon\n",
    "cnt = 0\n",
    "plt.figure(figsize=(8,10))\n",
    "for i in range(len(epsilons)):\n",
    "    for j in range(len(examples[i])):\n",
    "        cnt += 1\n",
    "        plt.subplot(len(epsilons),len(examples[0]),cnt)\n",
    "        plt.xticks([], [])\n",
    "        plt.yticks([], [])\n",
    "        if j == 0:\n",
    "            plt.ylabel(\"Eps: {}\".format(epsilons[i]), fontsize=14)\n",
    "        orig,adv,ex = examples[i][j]\n",
    "        plt.title(\"{} -> {}\".format(orig, adv))\n",
    "        plt.imshow(ex[0,:,:], cmap=\"gray\")\n",
    "plt.tight_layout()\n",
    "plt.show()"
   ]
  }
 ],
 "metadata": {
  "kernelspec": {
   "display_name": "Python 3",
   "language": "python",
   "name": "python3"
  },
  "language_info": {
   "codemirror_mode": {
    "name": "ipython",
    "version": 3
   },
   "file_extension": ".py",
   "mimetype": "text/x-python",
   "name": "python",
   "nbconvert_exporter": "python",
   "pygments_lexer": "ipython3",
   "version": "3.8.8"
  }
 },
 "nbformat": 4,
 "nbformat_minor": 5
}
